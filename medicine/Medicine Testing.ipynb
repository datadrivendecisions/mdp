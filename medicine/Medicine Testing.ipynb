{
 "cells": [
  {
   "cell_type": "markdown",
   "metadata": {},
   "source": [
    "# Medicine Testing - Gittins Index"
   ]
  },
  {
   "cell_type": "code",
   "execution_count": 10,
   "metadata": {},
   "outputs": [],
   "source": [
    "# number of patients\n",
    "L = 50\n",
    "\n",
    "# discount factor alpha\n",
    "alpha = 0.9\n",
    "\n",
    "# domain of both x and y is [0, L]\n",
    "X_minus = list(range(L))\n",
    "X = X_minus + [L]\n",
    "Y_minus = list(range(L))\n",
    "Y = Y_minus + [L]\n",
    "\n",
    "from typing import Tuple\n",
    "\n",
    "# Value iteration step\n",
    "def value_iteration_step(selected: Tuple[int, int], V_old):\n",
    "\n",
    "    V_new = {}\n",
    "    for x in X_minus:\n",
    "        for y in Y_minus:\n",
    "            V_regular = (\n",
    "                ((x + 1) / (x + y + 2)) * (1 + alpha * V_old[(x + 1, y)]) +\n",
    "                ((y + 1) / (x + y + 2)) * alpha * V_old[(x, y + 1)]\n",
    "            )\n",
    "            V_restart = (\n",
    "                ((selected[0] + 1) / (selected[0] + selected[1] + 2)) * (1 + alpha * V_old[(selected[0] + 1, selected[1])]) +\n",
    "                ((selected[1] + 1) / (selected[0] + selected[1] + 2)) * alpha * V_old[(selected[0], selected[1] + 1)]\n",
    "            )\n",
    "            V_new[(x,y)] = max(V_regular, V_restart)\n",
    "        \n",
    "    for x in X:\n",
    "        V_new[(x,L)] = V_old[(x,L)]\n",
    "\n",
    "    for y in Y:\n",
    "        V_new[(L,y)] = V_old[(L,y)]\n",
    "\n",
    "    return V_new\n",
    "\n",
    "\n",
    "def diff(V_old, V_new):\n",
    "    max_diff = 0\n",
    "    for state in V_new.keys():\n",
    "        diff = abs(V_new[state] - V_old[state])\n",
    "        if diff > max_diff:\n",
    "            max_diff = diff\n",
    "\n",
    "    return max_diff\n",
    "\n",
    "\n",
    "def value_iteration(selected: Tuple[int, int]):\n",
    "\n",
    "    # Initial Value function\n",
    "    V_old = {}\n",
    "    for x in X:\n",
    "        for y in Y:\n",
    "            V_old[(x,y)] = 0\n",
    "\n",
    "    max_n = 1000\n",
    "    eps = 0.001\n",
    "\n",
    "    for n in range(max_n):\n",
    "        V_new = value_iteration_step(selected, V_old)\n",
    "        diff_value = diff(V_new, V_old)\n",
    "        if diff_value < eps:\n",
    "            break\n",
    "\n",
    "        V_old = V_new\n",
    "\n",
    "    return V_new, n, diff_value\n"
   ]
  },
  {
   "cell_type": "code",
   "execution_count": 19,
   "metadata": {},
   "outputs": [],
   "source": [
    "selected_states = [(0, 1), (4, 6), (3, 7), (8, 12), (7, 13), (12, 18), (11, 19), (16, 24), (15, 26), (20, 30), (19, 31)]\n",
    "g_index_selected_states = []\n",
    "success_prob_selected_states = []\n",
    "for selected_state in selected_states:  \n",
    "    V_selected, n, diff_value = value_iteration(selected_state)\n",
    "    g_index_selected = (1 - alpha) * V_selected[selected_state]\n",
    "    g_index_selected_states.append(g_index_selected)\n",
    "\n",
    "    success_prob = (selected_state[0] + 1) / (selected_state[0] + selected_state[1] + 2)\n",
    "    success_prob_selected_states.append(success_prob)"
   ]
  },
  {
   "cell_type": "code",
   "execution_count": 20,
   "metadata": {},
   "outputs": [
    {
     "data": {
      "text/plain": [
       "[0.49914613287272824,\n",
       " 0.47395540384703405,\n",
       " 0.3892527519336255,\n",
       " 0.44241447444918786,\n",
       " 0.39648757971192344,\n",
       " 0.42966503050433796,\n",
       " 0.39817759491281435,\n",
       " 0.42273734392358947,\n",
       " 0.38943377922067524,\n",
       " 0.41830401481252216,\n",
       " 0.3989274600293537]"
      ]
     },
     "execution_count": 20,
     "metadata": {},
     "output_type": "execute_result"
    }
   ],
   "source": [
    "g_index_selected_states"
   ]
  },
  {
   "cell_type": "code",
   "execution_count": 21,
   "metadata": {},
   "outputs": [
    {
     "data": {
      "text/plain": [
       "[0.3333333333333333,\n",
       " 0.4166666666666667,\n",
       " 0.3333333333333333,\n",
       " 0.4090909090909091,\n",
       " 0.36363636363636365,\n",
       " 0.40625,\n",
       " 0.375,\n",
       " 0.40476190476190477,\n",
       " 0.37209302325581395,\n",
       " 0.40384615384615385,\n",
       " 0.38461538461538464]"
      ]
     },
     "execution_count": 21,
     "metadata": {},
     "output_type": "execute_result"
    }
   ],
   "source": [
    "success_prob_selected_states"
   ]
  }
 ],
 "metadata": {
  "kernelspec": {
   "display_name": ".venv",
   "language": "python",
   "name": "python3"
  },
  "language_info": {
   "codemirror_mode": {
    "name": "ipython",
    "version": 3
   },
   "file_extension": ".py",
   "mimetype": "text/x-python",
   "name": "python",
   "nbconvert_exporter": "python",
   "pygments_lexer": "ipython3",
   "version": "3.10.10"
  }
 },
 "nbformat": 4,
 "nbformat_minor": 2
}
